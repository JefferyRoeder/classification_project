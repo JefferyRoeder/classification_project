{
 "cells": [
  {
   "cell_type": "code",
   "execution_count": 1,
   "metadata": {},
   "outputs": [],
   "source": [
    "import pandas as pd\n",
    "import numpy as np\n",
    "import matplotlib.pyplot as plt\n",
    "import seaborn as sns\n",
    "from sklearn.model_selection import train_test_split\n",
    "from sklearn.preprocessing import StandardScaler, MinMaxScaler\n",
    "from sklearn.metrics import mean_squared_error, r2_score, explained_variance_score\n",
    "from math import sqrt\n",
    "import warnings\n",
    "warnings.filterwarnings(\"ignore\")\n",
    "from sklearn.model_selection import train_test_split\n",
    "from sklearn.impute import SimpleImputer\n",
    "from sklearn.preprocessing import LabelEncoder, OneHotEncoder, MinMaxScaler\n",
    "from sklearn.model_selection import train_test_split\n",
    "from sklearn.tree import DecisionTreeClassifier\n",
    "from sklearn.tree import export_graphviz\n",
    "from sklearn.metrics import classification_report\n",
    "from sklearn.metrics import confusion_matrix\n",
    "from sklearn.linear_model import LogisticRegression\n",
    "from scipy import stats\n",
    "import graphviz\n",
    "from graphviz import Graph\n",
    "\n",
    "import env\n",
    "import acquire\n",
    "import split_scale\n",
    "#import features\n",
    "import prep\n",
    "#import exploration\n",
    "#import feature_selection\n",
    "#import model"
   ]
  },
  {
   "cell_type": "markdown",
   "metadata": {},
   "source": [
    "### Acquisition and initial data exploration"
   ]
  },
  {
   "cell_type": "code",
   "execution_count": 25,
   "metadata": {},
   "outputs": [],
   "source": [
    "df = acquire.prep_telco()"
   ]
  },
  {
   "cell_type": "code",
   "execution_count": 26,
   "metadata": {
    "scrolled": true
   },
   "outputs": [
    {
     "data": {
      "text/html": [
       "<div>\n",
       "<style scoped>\n",
       "    .dataframe tbody tr th:only-of-type {\n",
       "        vertical-align: middle;\n",
       "    }\n",
       "\n",
       "    .dataframe tbody tr th {\n",
       "        vertical-align: top;\n",
       "    }\n",
       "\n",
       "    .dataframe thead th {\n",
       "        text-align: right;\n",
       "    }\n",
       "</style>\n",
       "<table border=\"1\" class=\"dataframe\">\n",
       "  <thead>\n",
       "    <tr style=\"text-align: right;\">\n",
       "      <th></th>\n",
       "      <th>count</th>\n",
       "      <th>mean</th>\n",
       "      <th>std</th>\n",
       "      <th>min</th>\n",
       "      <th>25%</th>\n",
       "      <th>50%</th>\n",
       "      <th>75%</th>\n",
       "      <th>max</th>\n",
       "    </tr>\n",
       "  </thead>\n",
       "  <tbody>\n",
       "    <tr>\n",
       "      <th>senior_citizen</th>\n",
       "      <td>1526.0</td>\n",
       "      <td>0.034076</td>\n",
       "      <td>0.181484</td>\n",
       "      <td>0.00</td>\n",
       "      <td>0.0</td>\n",
       "      <td>0.00</td>\n",
       "      <td>0.00</td>\n",
       "      <td>1.0</td>\n",
       "    </tr>\n",
       "    <tr>\n",
       "      <th>tenure</th>\n",
       "      <td>1526.0</td>\n",
       "      <td>30.547182</td>\n",
       "      <td>24.356507</td>\n",
       "      <td>0.00</td>\n",
       "      <td>8.0</td>\n",
       "      <td>25.00</td>\n",
       "      <td>52.75</td>\n",
       "      <td>72.0</td>\n",
       "    </tr>\n",
       "    <tr>\n",
       "      <th>internet_service_type_id</th>\n",
       "      <td>1526.0</td>\n",
       "      <td>3.000000</td>\n",
       "      <td>0.000000</td>\n",
       "      <td>3.00</td>\n",
       "      <td>3.0</td>\n",
       "      <td>3.00</td>\n",
       "      <td>3.00</td>\n",
       "      <td>3.0</td>\n",
       "    </tr>\n",
       "    <tr>\n",
       "      <th>contract_type_id</th>\n",
       "      <td>1526.0</td>\n",
       "      <td>2.074705</td>\n",
       "      <td>0.869703</td>\n",
       "      <td>1.00</td>\n",
       "      <td>1.0</td>\n",
       "      <td>2.00</td>\n",
       "      <td>3.00</td>\n",
       "      <td>3.0</td>\n",
       "    </tr>\n",
       "    <tr>\n",
       "      <th>payment_type_id</th>\n",
       "      <td>1526.0</td>\n",
       "      <td>2.571429</td>\n",
       "      <td>0.916055</td>\n",
       "      <td>1.00</td>\n",
       "      <td>2.0</td>\n",
       "      <td>2.00</td>\n",
       "      <td>3.00</td>\n",
       "      <td>4.0</td>\n",
       "    </tr>\n",
       "    <tr>\n",
       "      <th>monthly_charges</th>\n",
       "      <td>1526.0</td>\n",
       "      <td>21.079194</td>\n",
       "      <td>2.164221</td>\n",
       "      <td>18.25</td>\n",
       "      <td>19.7</td>\n",
       "      <td>20.15</td>\n",
       "      <td>20.90</td>\n",
       "      <td>26.9</td>\n",
       "    </tr>\n",
       "  </tbody>\n",
       "</table>\n",
       "</div>"
      ],
      "text/plain": [
       "                           count       mean        std    min   25%    50%  \\\n",
       "senior_citizen            1526.0   0.034076   0.181484   0.00   0.0   0.00   \n",
       "tenure                    1526.0  30.547182  24.356507   0.00   8.0  25.00   \n",
       "internet_service_type_id  1526.0   3.000000   0.000000   3.00   3.0   3.00   \n",
       "contract_type_id          1526.0   2.074705   0.869703   1.00   1.0   2.00   \n",
       "payment_type_id           1526.0   2.571429   0.916055   1.00   2.0   2.00   \n",
       "monthly_charges           1526.0  21.079194   2.164221  18.25  19.7  20.15   \n",
       "\n",
       "                            75%   max  \n",
       "senior_citizen             0.00   1.0  \n",
       "tenure                    52.75  72.0  \n",
       "internet_service_type_id   3.00   3.0  \n",
       "contract_type_id           3.00   3.0  \n",
       "payment_type_id            3.00   4.0  \n",
       "monthly_charges           20.90  26.9  "
      ]
     },
     "execution_count": 26,
     "metadata": {},
     "output_type": "execute_result"
    }
   ],
   "source": [
    "df = df[(df.internet_service_type_id ==3)]\n",
    "df.describe().transpose()"
   ]
  },
  {
   "cell_type": "code",
   "execution_count": 27,
   "metadata": {},
   "outputs": [
    {
     "data": {
      "text/html": [
       "<div>\n",
       "<style scoped>\n",
       "    .dataframe tbody tr th:only-of-type {\n",
       "        vertical-align: middle;\n",
       "    }\n",
       "\n",
       "    .dataframe tbody tr th {\n",
       "        vertical-align: top;\n",
       "    }\n",
       "\n",
       "    .dataframe thead th {\n",
       "        text-align: right;\n",
       "    }\n",
       "</style>\n",
       "<table border=\"1\" class=\"dataframe\">\n",
       "  <thead>\n",
       "    <tr style=\"text-align: right;\">\n",
       "      <th></th>\n",
       "      <th>customer_id</th>\n",
       "      <th>gender</th>\n",
       "      <th>senior_citizen</th>\n",
       "      <th>partner</th>\n",
       "      <th>dependents</th>\n",
       "      <th>tenure</th>\n",
       "      <th>phone_service</th>\n",
       "      <th>multiple_lines</th>\n",
       "      <th>internet_service_type_id</th>\n",
       "      <th>online_security</th>\n",
       "      <th>...</th>\n",
       "      <th>device_protection</th>\n",
       "      <th>tech_support</th>\n",
       "      <th>streaming_tv</th>\n",
       "      <th>streaming_movies</th>\n",
       "      <th>contract_type_id</th>\n",
       "      <th>paperless_billing</th>\n",
       "      <th>payment_type_id</th>\n",
       "      <th>monthly_charges</th>\n",
       "      <th>total_charges</th>\n",
       "      <th>churn</th>\n",
       "    </tr>\n",
       "  </thead>\n",
       "  <tbody>\n",
       "    <tr>\n",
       "      <th>20</th>\n",
       "      <td>0023-UYUPN</td>\n",
       "      <td>Female</td>\n",
       "      <td>1</td>\n",
       "      <td>Yes</td>\n",
       "      <td>No</td>\n",
       "      <td>50</td>\n",
       "      <td>Yes</td>\n",
       "      <td>Yes</td>\n",
       "      <td>3</td>\n",
       "      <td>No internet service</td>\n",
       "      <td>...</td>\n",
       "      <td>No internet service</td>\n",
       "      <td>No internet service</td>\n",
       "      <td>No internet service</td>\n",
       "      <td>No internet service</td>\n",
       "      <td>2</td>\n",
       "      <td>No</td>\n",
       "      <td>1</td>\n",
       "      <td>25.20</td>\n",
       "      <td>1306.3</td>\n",
       "      <td>No</td>\n",
       "    </tr>\n",
       "    <tr>\n",
       "      <th>23</th>\n",
       "      <td>0030-FNXPP</td>\n",
       "      <td>Female</td>\n",
       "      <td>0</td>\n",
       "      <td>No</td>\n",
       "      <td>No</td>\n",
       "      <td>3</td>\n",
       "      <td>Yes</td>\n",
       "      <td>No</td>\n",
       "      <td>3</td>\n",
       "      <td>No internet service</td>\n",
       "      <td>...</td>\n",
       "      <td>No internet service</td>\n",
       "      <td>No internet service</td>\n",
       "      <td>No internet service</td>\n",
       "      <td>No internet service</td>\n",
       "      <td>1</td>\n",
       "      <td>No</td>\n",
       "      <td>2</td>\n",
       "      <td>19.85</td>\n",
       "      <td>57.2</td>\n",
       "      <td>No</td>\n",
       "    </tr>\n",
       "    <tr>\n",
       "      <th>24</th>\n",
       "      <td>0031-PVLZI</td>\n",
       "      <td>Female</td>\n",
       "      <td>0</td>\n",
       "      <td>Yes</td>\n",
       "      <td>Yes</td>\n",
       "      <td>4</td>\n",
       "      <td>Yes</td>\n",
       "      <td>No</td>\n",
       "      <td>3</td>\n",
       "      <td>No internet service</td>\n",
       "      <td>...</td>\n",
       "      <td>No internet service</td>\n",
       "      <td>No internet service</td>\n",
       "      <td>No internet service</td>\n",
       "      <td>No internet service</td>\n",
       "      <td>1</td>\n",
       "      <td>No</td>\n",
       "      <td>2</td>\n",
       "      <td>20.35</td>\n",
       "      <td>76.35</td>\n",
       "      <td>Yes</td>\n",
       "    </tr>\n",
       "    <tr>\n",
       "      <th>27</th>\n",
       "      <td>0040-HALCW</td>\n",
       "      <td>Male</td>\n",
       "      <td>0</td>\n",
       "      <td>Yes</td>\n",
       "      <td>Yes</td>\n",
       "      <td>54</td>\n",
       "      <td>Yes</td>\n",
       "      <td>No</td>\n",
       "      <td>3</td>\n",
       "      <td>No internet service</td>\n",
       "      <td>...</td>\n",
       "      <td>No internet service</td>\n",
       "      <td>No internet service</td>\n",
       "      <td>No internet service</td>\n",
       "      <td>No internet service</td>\n",
       "      <td>3</td>\n",
       "      <td>No</td>\n",
       "      <td>4</td>\n",
       "      <td>20.40</td>\n",
       "      <td>1090.6</td>\n",
       "      <td>No</td>\n",
       "    </tr>\n",
       "    <tr>\n",
       "      <th>28</th>\n",
       "      <td>0042-JVWOJ</td>\n",
       "      <td>Male</td>\n",
       "      <td>0</td>\n",
       "      <td>No</td>\n",
       "      <td>No</td>\n",
       "      <td>26</td>\n",
       "      <td>Yes</td>\n",
       "      <td>No</td>\n",
       "      <td>3</td>\n",
       "      <td>No internet service</td>\n",
       "      <td>...</td>\n",
       "      <td>No internet service</td>\n",
       "      <td>No internet service</td>\n",
       "      <td>No internet service</td>\n",
       "      <td>No internet service</td>\n",
       "      <td>2</td>\n",
       "      <td>Yes</td>\n",
       "      <td>3</td>\n",
       "      <td>19.60</td>\n",
       "      <td>471.85</td>\n",
       "      <td>No</td>\n",
       "    </tr>\n",
       "  </tbody>\n",
       "</table>\n",
       "<p>5 rows × 21 columns</p>\n",
       "</div>"
      ],
      "text/plain": [
       "   customer_id  gender  senior_citizen partner dependents  tenure  \\\n",
       "20  0023-UYUPN  Female               1     Yes         No      50   \n",
       "23  0030-FNXPP  Female               0      No         No       3   \n",
       "24  0031-PVLZI  Female               0     Yes        Yes       4   \n",
       "27  0040-HALCW    Male               0     Yes        Yes      54   \n",
       "28  0042-JVWOJ    Male               0      No         No      26   \n",
       "\n",
       "   phone_service multiple_lines  internet_service_type_id  \\\n",
       "20           Yes            Yes                         3   \n",
       "23           Yes             No                         3   \n",
       "24           Yes             No                         3   \n",
       "27           Yes             No                         3   \n",
       "28           Yes             No                         3   \n",
       "\n",
       "        online_security  ...    device_protection         tech_support  \\\n",
       "20  No internet service  ...  No internet service  No internet service   \n",
       "23  No internet service  ...  No internet service  No internet service   \n",
       "24  No internet service  ...  No internet service  No internet service   \n",
       "27  No internet service  ...  No internet service  No internet service   \n",
       "28  No internet service  ...  No internet service  No internet service   \n",
       "\n",
       "           streaming_tv     streaming_movies contract_type_id  \\\n",
       "20  No internet service  No internet service                2   \n",
       "23  No internet service  No internet service                1   \n",
       "24  No internet service  No internet service                1   \n",
       "27  No internet service  No internet service                3   \n",
       "28  No internet service  No internet service                2   \n",
       "\n",
       "    paperless_billing payment_type_id  monthly_charges  total_charges churn  \n",
       "20                 No               1            25.20         1306.3    No  \n",
       "23                 No               2            19.85           57.2    No  \n",
       "24                 No               2            20.35          76.35   Yes  \n",
       "27                 No               4            20.40         1090.6    No  \n",
       "28                Yes               3            19.60         471.85    No  \n",
       "\n",
       "[5 rows x 21 columns]"
      ]
     },
     "execution_count": 27,
     "metadata": {},
     "output_type": "execute_result"
    }
   ],
   "source": [
    "df.head()"
   ]
  },
  {
   "cell_type": "markdown",
   "metadata": {},
   "source": [
    "### Initial data prep\n",
    "\n",
    "Several fields needed to be cleaned up, converted to booleans, and combined.\n",
    "\n",
    "- Total charges had 13 blank values that were dropped from the dataset. That is too few records to significantly impact our analysis\n",
    "\n",
    "\n",
    "- churn, senior_citizen, gender, paperless_billing all converted to boolean values.\n",
    "\n",
    "\n",
    "- Combined fields: partner/dependents to family, phone_service/multiple_lines to phone, streaming_tv/streaming_movies to streaming, device_protection/tech_support to tech_protection, and online_backup/online_security to internet_security"
   ]
  },
  {
   "cell_type": "code",
   "execution_count": 28,
   "metadata": {},
   "outputs": [],
   "source": [
    "df = prep.clean_telco(df)"
   ]
  },
  {
   "cell_type": "code",
   "execution_count": null,
   "metadata": {},
   "outputs": [],
   "source": []
  },
  {
   "cell_type": "markdown",
   "metadata": {},
   "source": [
    "### Senior leadership questions and initial hypothesis\n",
    "\n",
    "Based on our current understanding of the business. We believe that churn is highly based on short tenured customers.\n",
    "\n",
    "Initial exploration included addressing the questions presented by the senior leadership to get an idea of what our data was telling us. As well as testing our initial hypothesis of tenure driving churn."
   ]
  },
  {
   "cell_type": "markdown",
   "metadata": {},
   "source": [
    "##### Is there a month where a customer is more likely to churn?\n",
    "\n",
    "The scatterplot below shows customer tenure on the x axis and churn rate on the y axix. \n",
    "\n",
    "You can see a clear rise in churn rate for newer customers. "
   ]
  },
  {
   "cell_type": "code",
   "execution_count": 29,
   "metadata": {},
   "outputs": [
    {
     "data": {
      "image/png": "[encoded data removed]",
      "text/plain": [
       "<Figure size 432x288 with 1 Axes>"
      ]
     },
     "metadata": {
      "needs_background": "light"
     },
     "output_type": "display_data"
    }
   ],
   "source": [
    "prep.tenure_churn(df)"
   ]
  },
  {
   "cell_type": "markdown",
   "metadata": {},
   "source": [
    "##### Is there a tenure that month to month are most likely to churn? 1 year contracts? 2 year contracts?\n",
    "\n",
    "The chart below shows the breakout of churn by contract type. \n",
    "\n",
    "Newer customers are still more likely to churn across the board but now we see that month to month contracts really stand out in the early months. \n",
    "\n",
    "There could be several factors driving this loss in early customers. They may be testing out our services and not enjoying the quality enough to stay. The competition could also be targeting our customers that are not locked into lengthy contracts. If we want to keep this contract type we need to address our onboarding process to ensure our new customers have the highest possible satisfaction in the first few weeks of using our services. It may help to incentivize our newer m2m customers to switch to 1 or 2 year contracts if possible"
   ]
  },
  {
   "cell_type": "code",
   "execution_count": 30,
   "metadata": {},
   "outputs": [
    {
     "data": {
      "image/png": "[encoded data removed]",
      "text/plain": [
       "<Figure size 432x288 with 1 Axes>"
      ]
     },
     "metadata": {
      "needs_background": "light"
     },
     "output_type": "display_data"
    }
   ],
   "source": [
    "prep.contract_churn(df)"
   ]
  },
  {
   "cell_type": "markdown",
   "metadata": {},
   "source": [
    "##### Are there features that indicate a higher propensity to churn? Internet type? phone service? online security/backup? senior citizen? paying more than x% of customers?\n",
    "\n",
    "\n",
    "Internet type was a strong indicator of churn. Fiber and DSL customers were both more likely to churn than those with no internet."
   ]
  },
  {
   "cell_type": "code",
   "execution_count": 31,
   "metadata": {},
   "outputs": [
    {
     "data": {
      "image/png": "[encoded data removed]",
      "text/plain": [
       "<Figure size 432x288 with 1 Axes>"
      ]
     },
     "metadata": {
      "needs_background": "light"
     },
     "output_type": "display_data"
    }
   ],
   "source": [
    "prep.internet_churn(df)"
   ]
  },
  {
   "cell_type": "markdown",
   "metadata": {},
   "source": [
    "Phone service was not a strong indicator of churn."
   ]
  },
  {
   "cell_type": "code",
   "execution_count": 32,
   "metadata": {},
   "outputs": [
    {
     "data": {
      "text/html": [
       "<div>\n",
       "<style scoped>\n",
       "    .dataframe tbody tr th:only-of-type {\n",
       "        vertical-align: middle;\n",
       "    }\n",
       "\n",
       "    .dataframe tbody tr th {\n",
       "        vertical-align: top;\n",
       "    }\n",
       "\n",
       "    .dataframe thead th {\n",
       "        text-align: right;\n",
       "    }\n",
       "</style>\n",
       "<table border=\"1\" class=\"dataframe\">\n",
       "  <thead>\n",
       "    <tr style=\"text-align: right;\">\n",
       "      <th></th>\n",
       "      <th>phone</th>\n",
       "      <th>churn_rate</th>\n",
       "    </tr>\n",
       "  </thead>\n",
       "  <tbody>\n",
       "    <tr>\n",
       "      <th>0</th>\n",
       "      <td>True</td>\n",
       "      <td>0.074342</td>\n",
       "    </tr>\n",
       "  </tbody>\n",
       "</table>\n",
       "</div>"
      ],
      "text/plain": [
       "   phone  churn_rate\n",
       "0   True    0.074342"
      ]
     },
     "execution_count": 32,
     "metadata": {},
     "output_type": "execute_result"
    }
   ],
   "source": [
    "prep.phone_churn(df)"
   ]
  },
  {
   "cell_type": "markdown",
   "metadata": {},
   "source": [
    "Customers without online security or online backup were significantly more likely to churn than those with it."
   ]
  },
  {
   "cell_type": "code",
   "execution_count": 33,
   "metadata": {},
   "outputs": [
    {
     "data": {
      "text/html": [
       "<div>\n",
       "<style scoped>\n",
       "    .dataframe tbody tr th:only-of-type {\n",
       "        vertical-align: middle;\n",
       "    }\n",
       "\n",
       "    .dataframe tbody tr th {\n",
       "        vertical-align: top;\n",
       "    }\n",
       "\n",
       "    .dataframe thead th {\n",
       "        text-align: right;\n",
       "    }\n",
       "</style>\n",
       "<table border=\"1\" class=\"dataframe\">\n",
       "  <thead>\n",
       "    <tr style=\"text-align: right;\">\n",
       "      <th></th>\n",
       "      <th>online_security</th>\n",
       "      <th>churn_rate</th>\n",
       "    </tr>\n",
       "  </thead>\n",
       "  <tbody>\n",
       "    <tr>\n",
       "      <th>0</th>\n",
       "      <td>No internet service</td>\n",
       "      <td>0.074342</td>\n",
       "    </tr>\n",
       "  </tbody>\n",
       "</table>\n",
       "</div>"
      ],
      "text/plain": [
       "       online_security  churn_rate\n",
       "0  No internet service    0.074342"
      ]
     },
     "execution_count": 33,
     "metadata": {},
     "output_type": "execute_result"
    }
   ],
   "source": [
    "prep.security_churn(df)"
   ]
  },
  {
   "cell_type": "code",
   "execution_count": 34,
   "metadata": {},
   "outputs": [
    {
     "data": {
      "text/html": [
       "<div>\n",
       "<style scoped>\n",
       "    .dataframe tbody tr th:only-of-type {\n",
       "        vertical-align: middle;\n",
       "    }\n",
       "\n",
       "    .dataframe tbody tr th {\n",
       "        vertical-align: top;\n",
       "    }\n",
       "\n",
       "    .dataframe thead th {\n",
       "        text-align: right;\n",
       "    }\n",
       "</style>\n",
       "<table border=\"1\" class=\"dataframe\">\n",
       "  <thead>\n",
       "    <tr style=\"text-align: right;\">\n",
       "      <th></th>\n",
       "      <th>online_backup</th>\n",
       "      <th>churn_rate</th>\n",
       "    </tr>\n",
       "  </thead>\n",
       "  <tbody>\n",
       "    <tr>\n",
       "      <th>0</th>\n",
       "      <td>No internet service</td>\n",
       "      <td>0.074342</td>\n",
       "    </tr>\n",
       "  </tbody>\n",
       "</table>\n",
       "</div>"
      ],
      "text/plain": [
       "         online_backup  churn_rate\n",
       "0  No internet service    0.074342"
      ]
     },
     "execution_count": 34,
     "metadata": {},
     "output_type": "execute_result"
    }
   ],
   "source": [
    "prep.backup_churn(df)"
   ]
  },
  {
   "cell_type": "markdown",
   "metadata": {},
   "source": [
    "Seniors were somewhat more likely to churn."
   ]
  },
  {
   "cell_type": "code",
   "execution_count": 35,
   "metadata": {},
   "outputs": [
    {
     "data": {
      "text/html": [
       "<div>\n",
       "<style scoped>\n",
       "    .dataframe tbody tr th:only-of-type {\n",
       "        vertical-align: middle;\n",
       "    }\n",
       "\n",
       "    .dataframe tbody tr th {\n",
       "        vertical-align: top;\n",
       "    }\n",
       "\n",
       "    .dataframe thead th {\n",
       "        text-align: right;\n",
       "    }\n",
       "</style>\n",
       "<table border=\"1\" class=\"dataframe\">\n",
       "  <thead>\n",
       "    <tr style=\"text-align: right;\">\n",
       "      <th></th>\n",
       "      <th>senior_citizen</th>\n",
       "      <th>churn_rate</th>\n",
       "    </tr>\n",
       "  </thead>\n",
       "  <tbody>\n",
       "    <tr>\n",
       "      <th>0</th>\n",
       "      <td>False</td>\n",
       "      <td>0.073569</td>\n",
       "    </tr>\n",
       "    <tr>\n",
       "      <th>1</th>\n",
       "      <td>True</td>\n",
       "      <td>0.096154</td>\n",
       "    </tr>\n",
       "  </tbody>\n",
       "</table>\n",
       "</div>"
      ],
      "text/plain": [
       "   senior_citizen  churn_rate\n",
       "0           False    0.073569\n",
       "1            True    0.096154"
      ]
     },
     "execution_count": 35,
     "metadata": {},
     "output_type": "execute_result"
    }
   ],
   "source": [
    "prep.senior_churn(df)"
   ]
  },
  {
   "cell_type": "markdown",
   "metadata": {},
   "source": [
    "##### Is there a price threshold for specific services where the likelihood of churn increases once price for those services goes past that point?\n",
    "\n",
    "The data shows that there is not a clear price point where churn shifts dramatically. "
   ]
  },
  {
   "cell_type": "code",
   "execution_count": 36,
   "metadata": {},
   "outputs": [
    {
     "data": {
      "image/png": "[encoded data removed]",
      "text/plain": [
       "<Figure size 432x288 with 1 Axes>"
      ]
     },
     "metadata": {
      "needs_background": "light"
     },
     "output_type": "display_data"
    }
   ],
   "source": [
    "prep.charges_churn(df)"
   ]
  },
  {
   "cell_type": "markdown",
   "metadata": {},
   "source": [
    "The below chart shows that our highest churning customers are also bringing in the most revenue. We need to work to upsell our stable and lower tier customers to better service packages."
   ]
  },
  {
   "cell_type": "code",
   "execution_count": 37,
   "metadata": {},
   "outputs": [
    {
     "data": {
      "image/png": "[encoded data removed]",
      "text/plain": [
       "<Figure size 432x288 with 1 Axes>"
      ]
     },
     "metadata": {
      "needs_background": "light"
     },
     "output_type": "display_data"
    }
   ],
   "source": [
    "prep.charges_distro(df)"
   ]
  },
  {
   "cell_type": "code",
   "execution_count": 38,
   "metadata": {},
   "outputs": [
    {
     "name": "stdout",
     "output_type": "stream",
     "text": [
      "Customers churned at an average rate of:  7.4 %\n",
      "Customers in the top 25% of monthly charges churned at a rate of:  24.539473684210527 %\n",
      "Customers in the bottom 25% of monthly charges churned at a rate of:  23.684210526315788 %\n"
     ]
    }
   ],
   "source": [
    "prep.quantile_churn(df)"
   ]
  },
  {
   "cell_type": "markdown",
   "metadata": {},
   "source": [
    "### Data prep\n",
    "\n",
    "- Converting churn and senior citizen to boolean.\n",
    "- Combining partner and dependents into one variable called 'family' if either column is Yes.\n",
    "- Combining phone_service and multiple_lines into one variable called phone if either column is Yes.\n",
    "\n"
   ]
  },
  {
   "cell_type": "code",
   "execution_count": 39,
   "metadata": {},
   "outputs": [],
   "source": [
    "df = prep.drop_columns(df)"
   ]
  },
  {
   "cell_type": "markdown",
   "metadata": {},
   "source": [
    "#### Split and Scale"
   ]
  },
  {
   "cell_type": "code",
   "execution_count": 40,
   "metadata": {},
   "outputs": [],
   "source": [
    "train, test = split_scale.split_my_data(df,train_ratio=.8,seed=123,stratify=None)"
   ]
  },
  {
   "cell_type": "markdown",
   "metadata": {},
   "source": [
    "#### Create X and y train/test"
   ]
  },
  {
   "cell_type": "code",
   "execution_count": 41,
   "metadata": {},
   "outputs": [],
   "source": [
    "X_train = train.drop(['churn'],axis=1)\n",
    "y_train = train.churn\n",
    "X_test = test.drop(['churn'],axis=1)\n",
    "y_test = test.churn"
   ]
  },
  {
   "cell_type": "markdown",
   "metadata": {},
   "source": [
    "#### Fit model to training data"
   ]
  },
  {
   "cell_type": "code",
   "execution_count": 42,
   "metadata": {},
   "outputs": [],
   "source": [
    "clf = DecisionTreeClassifier(criterion='entropy',max_depth=4,random_state=123)"
   ]
  },
  {
   "cell_type": "code",
   "execution_count": 43,
   "metadata": {},
   "outputs": [
    {
     "data": {
      "text/plain": [
       "DecisionTreeClassifier(class_weight=None, criterion='entropy', max_depth=4,\n",
       "                       max_features=None, max_leaf_nodes=None,\n",
       "                       min_impurity_decrease=0.0, min_impurity_split=None,\n",
       "                       min_samples_leaf=1, min_samples_split=2,\n",
       "                       min_weight_fraction_leaf=0.0, presort=False,\n",
       "                       random_state=123, splitter='best')"
      ]
     },
     "execution_count": 43,
     "metadata": {},
     "output_type": "execute_result"
    }
   ],
   "source": [
    "clf.fit(X_train,y_train)"
   ]
  },
  {
   "cell_type": "code",
   "execution_count": 44,
   "metadata": {},
   "outputs": [],
   "source": [
    "y_pred = clf.predict(X_train)"
   ]
  },
  {
   "cell_type": "code",
   "execution_count": 45,
   "metadata": {},
   "outputs": [
    {
     "data": {
      "text/plain": [
       "array([[0.98739496, 0.01260504],\n",
       "       [0.87027027, 0.12972973],\n",
       "       [0.87027027, 0.12972973],\n",
       "       ...,\n",
       "       [0.87027027, 0.12972973],\n",
       "       [0.60909091, 0.39090909],\n",
       "       [0.98739496, 0.01260504]])"
      ]
     },
     "execution_count": 45,
     "metadata": {},
     "output_type": "execute_result"
    }
   ],
   "source": [
    "y_pred_prob = clf.predict_proba(X_train)\n",
    "y_pred_prob"
   ]
  },
  {
   "cell_type": "code",
   "execution_count": 46,
   "metadata": {},
   "outputs": [
    {
     "name": "stdout",
     "output_type": "stream",
     "text": [
      "The train data had an accuracy of:  0.9342105263157895\n",
      "The test data had an accuracy of:  0.8947368421052632\n"
     ]
    }
   ],
   "source": [
    "prep.model_accuracy(X_train,y_train,X_test,y_test,clf)"
   ]
  },
  {
   "cell_type": "markdown",
   "metadata": {},
   "source": [
    "We have a prediction accuracy rate of 89%. This is subset is something we can use in further business initiatives."
   ]
  },
  {
   "cell_type": "markdown",
   "metadata": {},
   "source": [
    "The confusion matrix below shows that we are struggling a bit with type 1 and type 2 errors, incorrectly marking customers we deem likely to churn and stayed. As well as those that will churn that we are not identifying. This is something we will work on in future models."
   ]
  },
  {
   "cell_type": "code",
   "execution_count": 166,
   "metadata": {},
   "outputs": [
    {
     "data": {
      "text/plain": [
       "array([[1695,    2],\n",
       "       [  49,    5]])"
      ]
     },
     "execution_count": 166,
     "metadata": {},
     "output_type": "execute_result"
    }
   ],
   "source": [
    "confusion_matrix(y_train,y_pred)"
   ]
  },
  {
   "cell_type": "markdown",
   "metadata": {},
   "source": [
    "The below chart shows that we are far more precise predicting those that will not churn."
   ]
  },
  {
   "cell_type": "code",
   "execution_count": 167,
   "metadata": {},
   "outputs": [
    {
     "name": "stdout",
     "output_type": "stream",
     "text": [
      "              precision    recall  f1-score   support\n",
      "\n",
      "       False       0.97      1.00      0.99      1697\n",
      "        True       0.71      0.09      0.16        54\n",
      "\n",
      "    accuracy                           0.97      1751\n",
      "   macro avg       0.84      0.55      0.57      1751\n",
      "weighted avg       0.96      0.97      0.96      1751\n",
      "\n"
     ]
    }
   ],
   "source": [
    "print(classification_report(y_train,y_pred))"
   ]
  },
  {
   "cell_type": "markdown",
   "metadata": {},
   "source": [
    "A breakdown of the decision tree for the baseline model."
   ]
  },
  {
   "cell_type": "code",
   "execution_count": 168,
   "metadata": {},
   "outputs": [],
   "source": [
    "# dot_data = export_graphviz(clf,out_file=None)\n",
    "# graph = graphviz.Source(dot_data)\n",
    "# graph.render('telco_churn',view=True)"
   ]
  },
  {
   "cell_type": "markdown",
   "metadata": {},
   "source": [
    "The below table shows our scored features from the baseline model. contract type, monthly charges, and tenure were the strongest features with a few other minor drivers. Quite a few of our features provided no value. This information will be taken into account when working on the mvp."
   ]
  },
  {
   "cell_type": "code",
   "execution_count": 169,
   "metadata": {},
   "outputs": [
    {
     "data": {
      "text/html": [
       "<div>\n",
       "<style scoped>\n",
       "    .dataframe tbody tr th:only-of-type {\n",
       "        vertical-align: middle;\n",
       "    }\n",
       "\n",
       "    .dataframe tbody tr th {\n",
       "        vertical-align: top;\n",
       "    }\n",
       "\n",
       "    .dataframe thead th {\n",
       "        text-align: right;\n",
       "    }\n",
       "</style>\n",
       "<table border=\"1\" class=\"dataframe\">\n",
       "  <thead>\n",
       "    <tr style=\"text-align: right;\">\n",
       "      <th></th>\n",
       "      <th>0</th>\n",
       "      <th>1</th>\n",
       "    </tr>\n",
       "  </thead>\n",
       "  <tbody>\n",
       "    <tr>\n",
       "      <th>0</th>\n",
       "      <td>contract_type_id</td>\n",
       "      <td>0.2411</td>\n",
       "    </tr>\n",
       "    <tr>\n",
       "      <th>1</th>\n",
       "      <td>monthly_charges</td>\n",
       "      <td>0.1943</td>\n",
       "    </tr>\n",
       "    <tr>\n",
       "      <th>2</th>\n",
       "      <td>total_charges</td>\n",
       "      <td>0.1826</td>\n",
       "    </tr>\n",
       "    <tr>\n",
       "      <th>3</th>\n",
       "      <td>tenure</td>\n",
       "      <td>0.1167</td>\n",
       "    </tr>\n",
       "    <tr>\n",
       "      <th>4</th>\n",
       "      <td>phone</td>\n",
       "      <td>0.0916</td>\n",
       "    </tr>\n",
       "    <tr>\n",
       "      <th>5</th>\n",
       "      <td>senior_citizen</td>\n",
       "      <td>0.0718</td>\n",
       "    </tr>\n",
       "    <tr>\n",
       "      <th>6</th>\n",
       "      <td>payment_type_id</td>\n",
       "      <td>0.0557</td>\n",
       "    </tr>\n",
       "    <tr>\n",
       "      <th>7</th>\n",
       "      <td>paperless_billing</td>\n",
       "      <td>0.0462</td>\n",
       "    </tr>\n",
       "    <tr>\n",
       "      <th>8</th>\n",
       "      <td>internet_service_type_id</td>\n",
       "      <td>0.0000</td>\n",
       "    </tr>\n",
       "    <tr>\n",
       "      <th>9</th>\n",
       "      <td>is_male</td>\n",
       "      <td>0.0000</td>\n",
       "    </tr>\n",
       "    <tr>\n",
       "      <th>10</th>\n",
       "      <td>family</td>\n",
       "      <td>0.0000</td>\n",
       "    </tr>\n",
       "    <tr>\n",
       "      <th>11</th>\n",
       "      <td>streaming</td>\n",
       "      <td>0.0000</td>\n",
       "    </tr>\n",
       "    <tr>\n",
       "      <th>12</th>\n",
       "      <td>tech_protection</td>\n",
       "      <td>0.0000</td>\n",
       "    </tr>\n",
       "    <tr>\n",
       "      <th>13</th>\n",
       "      <td>internet_security</td>\n",
       "      <td>0.0000</td>\n",
       "    </tr>\n",
       "  </tbody>\n",
       "</table>\n",
       "</div>"
      ],
      "text/plain": [
       "                           0       1\n",
       "0           contract_type_id  0.2411\n",
       "1            monthly_charges  0.1943\n",
       "2              total_charges  0.1826\n",
       "3                     tenure  0.1167\n",
       "4                      phone  0.0916\n",
       "5             senior_citizen  0.0718\n",
       "6            payment_type_id  0.0557\n",
       "7          paperless_billing  0.0462\n",
       "8   internet_service_type_id  0.0000\n",
       "9                    is_male  0.0000\n",
       "10                    family  0.0000\n",
       "11                 streaming  0.0000\n",
       "12           tech_protection  0.0000\n",
       "13         internet_security  0.0000"
      ]
     },
     "execution_count": 169,
     "metadata": {},
     "output_type": "execute_result"
    }
   ],
   "source": [
    "prep.key_features(clf,X_train)"
   ]
  },
  {
   "cell_type": "code",
   "execution_count": 170,
   "metadata": {},
   "outputs": [],
   "source": [
    "predictions_df = pd.concat([X_train,X_test])"
   ]
  },
  {
   "cell_type": "code",
   "execution_count": 171,
   "metadata": {},
   "outputs": [
    {
     "data": {
      "text/plain": [
       "array([[0.95412844, 0.04587156],\n",
       "       [0.        , 1.        ],\n",
       "       [0.97979798, 0.02020202],\n",
       "       ...,\n",
       "       [0.95412844, 0.04587156],\n",
       "       [0.98976608, 0.01023392],\n",
       "       [0.90376569, 0.09623431]])"
      ]
     },
     "execution_count": 171,
     "metadata": {},
     "output_type": "execute_result"
    }
   ],
   "source": [
    "y_pred_prob = clf.predict_proba(predictions_df)\n",
    "y_pred_prob"
   ]
  },
  {
   "cell_type": "code",
   "execution_count": 172,
   "metadata": {},
   "outputs": [],
   "source": [
    "y_predictions = pd.DataFrame({'probability_of_churn': y_pred_prob[:,1],'churned':(y_pred_prob[:,1] >=.5) == 1})\n",
    "\n",
    "y_predictions = y_predictions.set_index(df.index)"
   ]
  },
  {
   "cell_type": "code",
   "execution_count": 173,
   "metadata": {},
   "outputs": [],
   "source": [
    "y_predictions.to_csv(r'churn_probability_predictions.csv')"
   ]
  },
  {
   "cell_type": "markdown",
   "metadata": {},
   "source": [
    "#### Conclusion\n",
    "\n",
    "After initial exploration, analysis, and modeling we have a much stronger understanding of the factors driving churn. We know that contract type, tenure, and services received are strong drivers.\n",
    "\n",
    "- As a company we need to address the flight of fiber customers. We could do this with promotion programs and addressing quality issues within our fiber product.\n",
    "\n",
    "- New customers are also churning at a much higher rate. I believe we can address this with incentive programs to shift them to 6mo or 1year contracts at a discounted rate as well as potentially implementing a cancelation fee to disincentivize leaving.\n",
    "\n",
    "- "
   ]
  },
  {
   "cell_type": "code",
   "execution_count": null,
   "metadata": {},
   "outputs": [],
   "source": []
  }
 ],
 "metadata": {
  "kernelspec": {
   "display_name": "Python 3",
   "language": "python",
   "name": "python3"
  },
  "language_info": {
   "codemirror_mode": {
    "name": "ipython",
    "version": 3
   },
   "file_extension": ".py",
   "mimetype": "text/x-python",
   "name": "python",
   "nbconvert_exporter": "python",
   "pygments_lexer": "ipython3",
   "version": "3.7.3"
  }
 },
 "nbformat": 4,
 "nbformat_minor": 2
}
